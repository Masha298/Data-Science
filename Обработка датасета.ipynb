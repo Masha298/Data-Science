{
 "cells": [
  {
   "cell_type": "code",
   "execution_count": 1468,
   "id": "57d20a89",
   "metadata": {},
   "outputs": [
    {
     "data": {
      "text/html": [
       "<div>\n",
       "<style scoped>\n",
       "    .dataframe tbody tr th:only-of-type {\n",
       "        vertical-align: middle;\n",
       "    }\n",
       "\n",
       "    .dataframe tbody tr th {\n",
       "        vertical-align: top;\n",
       "    }\n",
       "\n",
       "    .dataframe thead th {\n",
       "        text-align: right;\n",
       "    }\n",
       "</style>\n",
       "<table border=\"1\" class=\"dataframe\">\n",
       "  <thead>\n",
       "    <tr style=\"text-align: right;\">\n",
       "      <th></th>\n",
       "      <th>ФИО</th>\n",
       "      <th>Группа</th>\n",
       "      <th>Пол (М/Ж)</th>\n",
       "      <th>Место жительства\\nГород</th>\n",
       "      <th>Кол-во долгов\\n(Число)</th>\n",
       "      <th>Кол-во пересдач</th>\n",
       "      <th>Бюджет или Договор</th>\n",
       "      <th>После: \\nШколы/Вуз/СПО</th>\n",
       "      <th>Вред. привычки\\n(Есть/Нет)</th>\n",
       "      <th>Самообразование\\n(Да/Нет)</th>\n",
       "      <th>Национальность</th>\n",
       "      <th>Отчислен/Обучаюсь</th>\n",
       "    </tr>\n",
       "  </thead>\n",
       "  <tbody>\n",
       "    <tr>\n",
       "      <th>0</th>\n",
       "      <td>Антипова Евгения Владимировна</td>\n",
       "      <td>АУБП-18</td>\n",
       "      <td>Ж</td>\n",
       "      <td>с.Васильевка</td>\n",
       "      <td>0</td>\n",
       "      <td>0</td>\n",
       "      <td>Бюджет</td>\n",
       "      <td>Школа</td>\n",
       "      <td>Нет</td>\n",
       "      <td>Да</td>\n",
       "      <td>Русская</td>\n",
       "      <td>Обучаюсь</td>\n",
       "    </tr>\n",
       "    <tr>\n",
       "      <th>1</th>\n",
       "      <td>Балашов Сергей</td>\n",
       "      <td>АУБП-18</td>\n",
       "      <td>М</td>\n",
       "      <td>Арти</td>\n",
       "      <td>0</td>\n",
       "      <td>0</td>\n",
       "      <td>Договор</td>\n",
       "      <td>Школа</td>\n",
       "      <td>Нет</td>\n",
       "      <td>Да</td>\n",
       "      <td>Русский</td>\n",
       "      <td>Обучаюсь</td>\n",
       "    </tr>\n",
       "    <tr>\n",
       "      <th>2</th>\n",
       "      <td>Герасимов Глеб Рафикович</td>\n",
       "      <td>АУБП-18</td>\n",
       "      <td>М</td>\n",
       "      <td>Екатеринбург</td>\n",
       "      <td>2</td>\n",
       "      <td>2</td>\n",
       "      <td>Договор</td>\n",
       "      <td>Школа</td>\n",
       "      <td>Нет</td>\n",
       "      <td>Да</td>\n",
       "      <td>Русский</td>\n",
       "      <td>Обучаюсь</td>\n",
       "    </tr>\n",
       "    <tr>\n",
       "      <th>3</th>\n",
       "      <td>Горбачев Константин Евгеньевич</td>\n",
       "      <td>АУБП-18</td>\n",
       "      <td>М</td>\n",
       "      <td>Екатеринбург</td>\n",
       "      <td>1</td>\n",
       "      <td>1</td>\n",
       "      <td>Договор</td>\n",
       "      <td>Школа</td>\n",
       "      <td>Нет</td>\n",
       "      <td>Да</td>\n",
       "      <td>Русский</td>\n",
       "      <td>Обучаюсь</td>\n",
       "    </tr>\n",
       "    <tr>\n",
       "      <th>4</th>\n",
       "      <td>Гордеев Дмитрий Владимирович</td>\n",
       "      <td>АУБП-18</td>\n",
       "      <td>М</td>\n",
       "      <td>Екатеринбург</td>\n",
       "      <td>0</td>\n",
       "      <td>3</td>\n",
       "      <td>Договор</td>\n",
       "      <td>Школа</td>\n",
       "      <td>Нет</td>\n",
       "      <td>Да</td>\n",
       "      <td>Русский</td>\n",
       "      <td>Обучаюсь</td>\n",
       "    </tr>\n",
       "  </tbody>\n",
       "</table>\n",
       "</div>"
      ],
      "text/plain": [
       "                              ФИО   Группа Пол (М/Ж) Место жительства\\nГород  \\\n",
       "0   Антипова Евгения Владимировна  АУБП-18         Ж            с.Васильевка   \n",
       "1                  Балашов Сергей  АУБП-18         М                    Арти   \n",
       "2        Герасимов Глеб Рафикович  АУБП-18         М            Екатеринбург   \n",
       "3  Горбачев Константин Евгеньевич  АУБП-18         М            Екатеринбург   \n",
       "4    Гордеев Дмитрий Владимирович  АУБП-18         М            Екатеринбург   \n",
       "\n",
       "   Кол-во долгов\\n(Число)  Кол-во пересдач Бюджет или Договор  \\\n",
       "0                       0                0            Бюджет    \n",
       "1                       0                0            Договор   \n",
       "2                       2                2            Договор   \n",
       "3                       1                1            Договор   \n",
       "4                       0                3            Договор   \n",
       "\n",
       "  После: \\nШколы/Вуз/СПО Вред. привычки\\n(Есть/Нет) Самообразование\\n(Да/Нет)  \\\n",
       "0                  Школа                        Нет                        Да   \n",
       "1                  Школа                        Нет                        Да   \n",
       "2                  Школа                        Нет                        Да   \n",
       "3                  Школа                        Нет                        Да   \n",
       "4                  Школа                        Нет                        Да   \n",
       "\n",
       "  Национальность Отчислен/Обучаюсь  \n",
       "0        Русская          Обучаюсь  \n",
       "1        Русский          Обучаюсь  \n",
       "2        Русский          Обучаюсь  \n",
       "3        Русский          Обучаюсь  \n",
       "4        Русский          Обучаюсь  "
      ]
     },
     "execution_count": 1468,
     "metadata": {},
     "output_type": "execute_result"
    }
   ],
   "source": [
    "from sklearn import datasets\n",
    "from sklearn.cluster import KMeans\n",
    "from sklearn.metrics import classification_report\n",
    "from sklearn.metrics import confusion_matrix\n",
    "from sklearn.metrics import accuracy_score\n",
    "from sklearn.neighbors import KNeighborsClassifier\n",
    "from sklearn.tree import DecisionTreeClassifier\n",
    "from sklearn.svm import SVC\n",
    "from sklearn.model_selection import GridSearchCV\n",
    "import os \n",
    "import pandas as pd\n",
    "import seaborn as sns\n",
    "import numpy as np\n",
    "from tqdm import tqdm\n",
    "import matplotlib.pyplot as plt\n",
    "data = pd.read_csv('Spiski2 - Студенты (1).csv')\n",
    "data.head()"
   ]
  },
  {
   "cell_type": "markdown",
   "id": "70996e9a",
   "metadata": {},
   "source": [
    "Предобработка датасета"
   ]
  },
  {
   "cell_type": "code",
   "execution_count": 1469,
   "id": "f89ed023",
   "metadata": {},
   "outputs": [
    {
     "name": "stdout",
     "output_type": "stream",
     "text": [
      "['Русская' 'Русский' 'Русский ' 'Кореец' 'Еврей' 'Руссский' 'Руская']\n"
     ]
    }
   ],
   "source": [
    "print(data['Национальность']. unique ())"
   ]
  },
  {
   "cell_type": "code",
   "execution_count": 1470,
   "id": "487f7418",
   "metadata": {},
   "outputs": [
    {
     "name": "stdout",
     "output_type": "stream",
     "text": [
      "[1 0]\n"
     ]
    }
   ],
   "source": [
    "data.loc[data[\"Национальность\"] == \"Русская\", \"Национальность\"] = 1\n",
    "data.loc[data[\"Национальность\"] == \"Русский\", \"Национальность\"] = 1\n",
    "data.loc[data[\"Национальность\"] == \"Русский \", \"Национальность\"] = 1\n",
    "data.loc[data[\"Национальность\"] == \"Руссский\", \"Национальность\"] = 1\n",
    "data.loc[data[\"Национальность\"] == \"Руская\", \"Национальность\"] = 1\n",
    "data.loc[data[\"Национальность\"] == \"Кореец\", \"Национальность\"] = 0\n",
    "data.loc[data[\"Национальность\"] == \"Еврей\", \"Национальность\"] = 0\n",
    "print(data['Национальность']. unique ())"
   ]
  },
  {
   "cell_type": "code",
   "execution_count": 1471,
   "id": "1eb577f5",
   "metadata": {},
   "outputs": [
    {
     "name": "stdout",
     "output_type": "stream",
     "text": [
      "['Обучаюсь' 'Отчислен' 'Обучаюсь ']\n"
     ]
    }
   ],
   "source": [
    "print(data['Отчислен/Обучаюсь']. unique ())"
   ]
  },
  {
   "cell_type": "code",
   "execution_count": 1472,
   "id": "54f555a3",
   "metadata": {},
   "outputs": [
    {
     "name": "stdout",
     "output_type": "stream",
     "text": [
      "['Обучаюсь' 'Отчислен']\n"
     ]
    }
   ],
   "source": [
    "data.loc[data[\"Отчислен/Обучаюсь\"] == \"Обучаюсь \", \"Отчислен/Обучаюсь\"] = \"Обучаюсь\"\n",
    "print(data['Отчислен/Обучаюсь']. unique ())"
   ]
  },
  {
   "cell_type": "code",
   "execution_count": 1473,
   "id": "2d18b72b",
   "metadata": {},
   "outputs": [
    {
     "name": "stdout",
     "output_type": "stream",
     "text": [
      "['Да' 'Нет']\n"
     ]
    }
   ],
   "source": [
    "print(data['Самообразование\\n(Да/Нет)']. unique ())"
   ]
  },
  {
   "cell_type": "code",
   "execution_count": 1474,
   "id": "e72bb180",
   "metadata": {},
   "outputs": [],
   "source": [
    "data.loc[data[\"Самообразование\\n(Да/Нет)\"] == \"Да\", \"Самообразование\\n(Да/Нет)\"] = 1\n",
    "data.loc[data[\"Самообразование\\n(Да/Нет)\"] == \"Нет\", \"Самообразование\\n(Да/Нет)\"] = 0\n",
    "data.rename(columns = {'Самообразование\\n(Да/Нет)': 'Самообразование'}, inplace = True)"
   ]
  },
  {
   "cell_type": "code",
   "execution_count": 1475,
   "id": "8766dfd0",
   "metadata": {},
   "outputs": [
    {
     "name": "stdout",
     "output_type": "stream",
     "text": [
      "['Нет' 'Да']\n"
     ]
    }
   ],
   "source": [
    "print(data['Вред. привычки\\n(Есть/Нет)']. unique ())"
   ]
  },
  {
   "cell_type": "code",
   "execution_count": 1476,
   "id": "7fde3f70",
   "metadata": {},
   "outputs": [],
   "source": [
    "data.loc[data[\"Вред. привычки\\n(Есть/Нет)\"] == \"Да\", \"Вред. привычки\\n(Есть/Нет)\"] = 1\n",
    "data.loc[data[\"Вред. привычки\\n(Есть/Нет)\"] == \"Нет\", \"Вред. привычки\\n(Есть/Нет)\"] = 0\n",
    "data.rename(columns = {'Вред. привычки\\n(Есть/Нет)': 'Вред. привычки'}, inplace = True)"
   ]
  },
  {
   "cell_type": "code",
   "execution_count": 1477,
   "id": "f0bb2dde",
   "metadata": {},
   "outputs": [
    {
     "name": "stdout",
     "output_type": "stream",
     "text": [
      "['Школа' 'Колледж' 'Школа ']\n"
     ]
    }
   ],
   "source": [
    "print(data['После: \\nШколы/Вуз/СПО']. unique ())"
   ]
  },
  {
   "cell_type": "code",
   "execution_count": 1478,
   "id": "a5a0ceb9",
   "metadata": {},
   "outputs": [],
   "source": [
    "data.loc[data[\"После: \\nШколы/Вуз/СПО\"] == \"Школа \", \"После: \\nШколы/Вуз/СПО\"] = \"Школа\""
   ]
  },
  {
   "cell_type": "code",
   "execution_count": 1479,
   "id": "c03513b8",
   "metadata": {},
   "outputs": [
    {
     "name": "stdout",
     "output_type": "stream",
     "text": [
      "['Бюджет ' 'Договор' 'Бюджет']\n"
     ]
    }
   ],
   "source": [
    "print(data['Бюджет или Договор']. unique ())"
   ]
  },
  {
   "cell_type": "code",
   "execution_count": 1480,
   "id": "63439447",
   "metadata": {},
   "outputs": [],
   "source": [
    "data.loc[data[\"Бюджет или Договор\"] == \"Бюджет \", \"Бюджет или Договор\"] = \"Бюджет\"\n",
    "data.loc[data[\"Бюджет или Договор\"] == \"Бюджет\", \"Бюджет или Договор\"] = 1\n",
    "data.loc[data[\"Бюджет или Договор\"] == \"Договор\", \"Бюджет или Договор\"] = 0\n",
    "data.rename(columns = {'Бюджет или Договор': 'Бюджет'}, inplace = True)"
   ]
  },
  {
   "cell_type": "code",
   "execution_count": 1481,
   "id": "14383234",
   "metadata": {},
   "outputs": [
    {
     "name": "stdout",
     "output_type": "stream",
     "text": [
      "['с.Васильевка' 'Арти' 'Екатеринбург' 'Камышлов' 'Екатеринбург '\n",
      " 'Магнитогорск' 'Рефтинский' 'Снежинск' 'Советский' 'Асбест' 'Мортка'\n",
      " 'Полевской' 'Михайловск' 'Первоуральск' 'Ирбит' 'Березовский' 'Рубцовск'\n",
      " 'Реж' 'Верхний Уфалей' 'Гай' 'Апатиты' 'Нефтеюганск' 'Екатеринбруг'\n",
      " 'Нижний тагил' 'Лесной' 'Уренгой']\n"
     ]
    }
   ],
   "source": [
    "print(data['Место жительства\\nГород'].unique ())"
   ]
  },
  {
   "cell_type": "code",
   "execution_count": 1482,
   "id": "21bd6668",
   "metadata": {},
   "outputs": [],
   "source": [
    "data.loc[data[\"Место жительства\\nГород\"] == \"Екатеринбург \", \"Место жительства\\nГород\"] = 1\n",
    "data.loc[data[\"Место жительства\\nГород\"] == \"Екатеринбург\", \"Место жительства\\nГород\"] = 1\n",
    "data.loc[data[\"Место жительства\\nГород\"] == \"Екатеринбруг\", \"Место жительства\\nГород\"] = 1\n",
    "data.loc[data[\"Место жительства\\nГород\"] != 1, \"Место жительства\\nГород\"] = 0"
   ]
  },
  {
   "cell_type": "code",
   "execution_count": 1483,
   "id": "5f036465",
   "metadata": {},
   "outputs": [
    {
     "name": "stdout",
     "output_type": "stream",
     "text": [
      "[0 1]\n"
     ]
    }
   ],
   "source": [
    "data.rename(columns = {'Место жительства\\nГород': 'Екатеринбург'}, inplace = True)\n",
    "print(data['Екатеринбург'].unique ())"
   ]
  },
  {
   "cell_type": "code",
   "execution_count": 1484,
   "id": "8e9bb7a1",
   "metadata": {},
   "outputs": [],
   "source": [
    "data.rename(columns = {'Кол-во долгов\\n(Число)': 'Кол-во долгов'}, inplace = True)"
   ]
  },
  {
   "cell_type": "code",
   "execution_count": 1485,
   "id": "24d25c3b",
   "metadata": {},
   "outputs": [
    {
     "name": "stdout",
     "output_type": "stream",
     "text": [
      "['Школа' 'Колледж']\n"
     ]
    }
   ],
   "source": [
    "print(data['После: \\nШколы/Вуз/СПО'].unique ())"
   ]
  },
  {
   "cell_type": "code",
   "execution_count": 1486,
   "id": "8a8c0908",
   "metadata": {},
   "outputs": [],
   "source": [
    "data = data.assign(Женщина = data['Пол (М/Ж)']=='Ж').round(2)\n",
    "data = data.assign(Мужчина = data['Пол (М/Ж)']=='М').round(2)"
   ]
  },
  {
   "cell_type": "code",
   "execution_count": 1487,
   "id": "6d570dfa",
   "metadata": {},
   "outputs": [],
   "source": [
    "data = data.assign(Школа = data['После: \\nШколы/Вуз/СПО']=='Школа').round(2)\n",
    "data = data.assign(Вуз = data['После: \\nШколы/Вуз/СПО']=='Вуз').round(2)\n",
    "data = data.assign(СПО = data['После: \\nШколы/Вуз/СПО']=='Колледж').round(2)"
   ]
  },
  {
   "cell_type": "code",
   "execution_count": 1488,
   "id": "9599f274",
   "metadata": {},
   "outputs": [],
   "source": [
    "data = data.astype({'Женщина': 'int', 'Мужчина' : 'int', 'Школа' : 'int', 'Вуз' : 'int', 'СПО' : 'int', 'Екатеринбург' : 'int'})\n",
    "data = data.astype({'Вред. привычки': 'int', 'Самообразование' : 'int', 'Национальность': 'int','Бюджет': 'int'})"
   ]
  },
  {
   "cell_type": "code",
   "execution_count": 1489,
   "id": "5a41f5ae",
   "metadata": {},
   "outputs": [
    {
     "name": "stdout",
     "output_type": "stream",
     "text": [
      "<class 'pandas.core.frame.DataFrame'>\n",
      "RangeIndex: 94 entries, 0 to 93\n",
      "Data columns (total 17 columns):\n",
      " #   Column                 Non-Null Count  Dtype \n",
      "---  ------                 --------------  ----- \n",
      " 0   ФИО                    94 non-null     object\n",
      " 1   Группа                 94 non-null     object\n",
      " 2   Пол (М/Ж)              94 non-null     object\n",
      " 3   Екатеринбург           94 non-null     int32 \n",
      " 4   Кол-во долгов          94 non-null     int64 \n",
      " 5   Кол-во пересдач        94 non-null     int64 \n",
      " 6   Бюджет                 94 non-null     int32 \n",
      " 7   После: \n",
      "Школы/Вуз/СПО  94 non-null     object\n",
      " 8   Вред. привычки         94 non-null     int32 \n",
      " 9   Самообразование        94 non-null     int32 \n",
      " 10  Национальность         94 non-null     int32 \n",
      " 11  Отчислен/Обучаюсь      94 non-null     object\n",
      " 12  Женщина                94 non-null     int32 \n",
      " 13  Мужчина                94 non-null     int32 \n",
      " 14  Школа                  94 non-null     int32 \n",
      " 15  Вуз                    94 non-null     int32 \n",
      " 16  СПО                    94 non-null     int32 \n",
      "dtypes: int32(10), int64(2), object(5)\n",
      "memory usage: 8.9+ KB\n"
     ]
    }
   ],
   "source": [
    "data.info()"
   ]
  },
  {
   "cell_type": "code",
   "execution_count": 1490,
   "id": "d910ed4b",
   "metadata": {},
   "outputs": [
    {
     "data": {
      "text/html": [
       "<div>\n",
       "<style scoped>\n",
       "    .dataframe tbody tr th:only-of-type {\n",
       "        vertical-align: middle;\n",
       "    }\n",
       "\n",
       "    .dataframe tbody tr th {\n",
       "        vertical-align: top;\n",
       "    }\n",
       "\n",
       "    .dataframe thead th {\n",
       "        text-align: right;\n",
       "    }\n",
       "</style>\n",
       "<table border=\"1\" class=\"dataframe\">\n",
       "  <thead>\n",
       "    <tr style=\"text-align: right;\">\n",
       "      <th></th>\n",
       "      <th>ФИО</th>\n",
       "      <th>Группа</th>\n",
       "      <th>Пол (М/Ж)</th>\n",
       "      <th>Екатеринбург</th>\n",
       "      <th>Кол-во долгов</th>\n",
       "      <th>Кол-во пересдач</th>\n",
       "      <th>Бюджет</th>\n",
       "      <th>После: \\nШколы/Вуз/СПО</th>\n",
       "      <th>Вред. привычки</th>\n",
       "      <th>Самообразование</th>\n",
       "      <th>Национальность</th>\n",
       "      <th>Отчислен/Обучаюсь</th>\n",
       "      <th>Женщина</th>\n",
       "      <th>Мужчина</th>\n",
       "      <th>Школа</th>\n",
       "      <th>Вуз</th>\n",
       "      <th>СПО</th>\n",
       "    </tr>\n",
       "  </thead>\n",
       "  <tbody>\n",
       "    <tr>\n",
       "      <th>0</th>\n",
       "      <td>Антипова Евгения Владимировна</td>\n",
       "      <td>АУБП-18</td>\n",
       "      <td>Ж</td>\n",
       "      <td>0</td>\n",
       "      <td>0</td>\n",
       "      <td>0</td>\n",
       "      <td>1</td>\n",
       "      <td>Школа</td>\n",
       "      <td>0</td>\n",
       "      <td>1</td>\n",
       "      <td>1</td>\n",
       "      <td>Обучаюсь</td>\n",
       "      <td>1</td>\n",
       "      <td>0</td>\n",
       "      <td>1</td>\n",
       "      <td>0</td>\n",
       "      <td>0</td>\n",
       "    </tr>\n",
       "    <tr>\n",
       "      <th>1</th>\n",
       "      <td>Балашов Сергей</td>\n",
       "      <td>АУБП-18</td>\n",
       "      <td>М</td>\n",
       "      <td>0</td>\n",
       "      <td>0</td>\n",
       "      <td>0</td>\n",
       "      <td>0</td>\n",
       "      <td>Школа</td>\n",
       "      <td>0</td>\n",
       "      <td>1</td>\n",
       "      <td>1</td>\n",
       "      <td>Обучаюсь</td>\n",
       "      <td>0</td>\n",
       "      <td>1</td>\n",
       "      <td>1</td>\n",
       "      <td>0</td>\n",
       "      <td>0</td>\n",
       "    </tr>\n",
       "    <tr>\n",
       "      <th>2</th>\n",
       "      <td>Герасимов Глеб Рафикович</td>\n",
       "      <td>АУБП-18</td>\n",
       "      <td>М</td>\n",
       "      <td>1</td>\n",
       "      <td>2</td>\n",
       "      <td>2</td>\n",
       "      <td>0</td>\n",
       "      <td>Школа</td>\n",
       "      <td>0</td>\n",
       "      <td>1</td>\n",
       "      <td>1</td>\n",
       "      <td>Обучаюсь</td>\n",
       "      <td>0</td>\n",
       "      <td>1</td>\n",
       "      <td>1</td>\n",
       "      <td>0</td>\n",
       "      <td>0</td>\n",
       "    </tr>\n",
       "    <tr>\n",
       "      <th>3</th>\n",
       "      <td>Горбачев Константин Евгеньевич</td>\n",
       "      <td>АУБП-18</td>\n",
       "      <td>М</td>\n",
       "      <td>1</td>\n",
       "      <td>1</td>\n",
       "      <td>1</td>\n",
       "      <td>0</td>\n",
       "      <td>Школа</td>\n",
       "      <td>0</td>\n",
       "      <td>1</td>\n",
       "      <td>1</td>\n",
       "      <td>Обучаюсь</td>\n",
       "      <td>0</td>\n",
       "      <td>1</td>\n",
       "      <td>1</td>\n",
       "      <td>0</td>\n",
       "      <td>0</td>\n",
       "    </tr>\n",
       "    <tr>\n",
       "      <th>4</th>\n",
       "      <td>Гордеев Дмитрий Владимирович</td>\n",
       "      <td>АУБП-18</td>\n",
       "      <td>М</td>\n",
       "      <td>1</td>\n",
       "      <td>0</td>\n",
       "      <td>3</td>\n",
       "      <td>0</td>\n",
       "      <td>Школа</td>\n",
       "      <td>0</td>\n",
       "      <td>1</td>\n",
       "      <td>1</td>\n",
       "      <td>Обучаюсь</td>\n",
       "      <td>0</td>\n",
       "      <td>1</td>\n",
       "      <td>1</td>\n",
       "      <td>0</td>\n",
       "      <td>0</td>\n",
       "    </tr>\n",
       "  </tbody>\n",
       "</table>\n",
       "</div>"
      ],
      "text/plain": [
       "                              ФИО   Группа Пол (М/Ж)  Екатеринбург  \\\n",
       "0   Антипова Евгения Владимировна  АУБП-18         Ж             0   \n",
       "1                  Балашов Сергей  АУБП-18         М             0   \n",
       "2        Герасимов Глеб Рафикович  АУБП-18         М             1   \n",
       "3  Горбачев Константин Евгеньевич  АУБП-18         М             1   \n",
       "4    Гордеев Дмитрий Владимирович  АУБП-18         М             1   \n",
       "\n",
       "   Кол-во долгов  Кол-во пересдач  Бюджет После: \\nШколы/Вуз/СПО  \\\n",
       "0              0                0       1                  Школа   \n",
       "1              0                0       0                  Школа   \n",
       "2              2                2       0                  Школа   \n",
       "3              1                1       0                  Школа   \n",
       "4              0                3       0                  Школа   \n",
       "\n",
       "   Вред. привычки  Самообразование  Национальность Отчислен/Обучаюсь  Женщина  \\\n",
       "0               0                1               1          Обучаюсь        1   \n",
       "1               0                1               1          Обучаюсь        0   \n",
       "2               0                1               1          Обучаюсь        0   \n",
       "3               0                1               1          Обучаюсь        0   \n",
       "4               0                1               1          Обучаюсь        0   \n",
       "\n",
       "   Мужчина  Школа  Вуз  СПО  \n",
       "0        0      1    0    0  \n",
       "1        1      1    0    0  \n",
       "2        1      1    0    0  \n",
       "3        1      1    0    0  \n",
       "4        1      1    0    0  "
      ]
     },
     "execution_count": 1490,
     "metadata": {},
     "output_type": "execute_result"
    }
   ],
   "source": [
    "data.head()"
   ]
  },
  {
   "cell_type": "code",
   "execution_count": 1491,
   "id": "fa336eac",
   "metadata": {},
   "outputs": [
    {
     "data": {
      "text/html": [
       "<div>\n",
       "<style scoped>\n",
       "    .dataframe tbody tr th:only-of-type {\n",
       "        vertical-align: middle;\n",
       "    }\n",
       "\n",
       "    .dataframe tbody tr th {\n",
       "        vertical-align: top;\n",
       "    }\n",
       "\n",
       "    .dataframe thead th {\n",
       "        text-align: right;\n",
       "    }\n",
       "</style>\n",
       "<table border=\"1\" class=\"dataframe\">\n",
       "  <thead>\n",
       "    <tr style=\"text-align: right;\">\n",
       "      <th></th>\n",
       "      <th>Екатеринбург</th>\n",
       "      <th>Кол-во долгов</th>\n",
       "      <th>Кол-во пересдач</th>\n",
       "      <th>Бюджет</th>\n",
       "      <th>Вред. привычки</th>\n",
       "      <th>Самообразование</th>\n",
       "      <th>Национальность</th>\n",
       "      <th>Женщина</th>\n",
       "      <th>Мужчина</th>\n",
       "      <th>Школа</th>\n",
       "      <th>Вуз</th>\n",
       "      <th>СПО</th>\n",
       "    </tr>\n",
       "  </thead>\n",
       "  <tbody>\n",
       "    <tr>\n",
       "      <th>count</th>\n",
       "      <td>94.000000</td>\n",
       "      <td>94.000000</td>\n",
       "      <td>94.000000</td>\n",
       "      <td>94.000000</td>\n",
       "      <td>94.000000</td>\n",
       "      <td>94.000000</td>\n",
       "      <td>94.000000</td>\n",
       "      <td>94.000000</td>\n",
       "      <td>94.000000</td>\n",
       "      <td>94.00000</td>\n",
       "      <td>94.0</td>\n",
       "      <td>94.00000</td>\n",
       "    </tr>\n",
       "    <tr>\n",
       "      <th>mean</th>\n",
       "      <td>0.670213</td>\n",
       "      <td>1.042553</td>\n",
       "      <td>1.276596</td>\n",
       "      <td>0.414894</td>\n",
       "      <td>0.319149</td>\n",
       "      <td>0.882979</td>\n",
       "      <td>0.978723</td>\n",
       "      <td>0.255319</td>\n",
       "      <td>0.744681</td>\n",
       "      <td>0.93617</td>\n",
       "      <td>0.0</td>\n",
       "      <td>0.06383</td>\n",
       "    </tr>\n",
       "    <tr>\n",
       "      <th>std</th>\n",
       "      <td>0.472657</td>\n",
       "      <td>1.625832</td>\n",
       "      <td>1.931094</td>\n",
       "      <td>0.495346</td>\n",
       "      <td>0.468646</td>\n",
       "      <td>0.323169</td>\n",
       "      <td>0.145079</td>\n",
       "      <td>0.438378</td>\n",
       "      <td>0.438378</td>\n",
       "      <td>0.24576</td>\n",
       "      <td>0.0</td>\n",
       "      <td>0.24576</td>\n",
       "    </tr>\n",
       "    <tr>\n",
       "      <th>min</th>\n",
       "      <td>0.000000</td>\n",
       "      <td>0.000000</td>\n",
       "      <td>0.000000</td>\n",
       "      <td>0.000000</td>\n",
       "      <td>0.000000</td>\n",
       "      <td>0.000000</td>\n",
       "      <td>0.000000</td>\n",
       "      <td>0.000000</td>\n",
       "      <td>0.000000</td>\n",
       "      <td>0.00000</td>\n",
       "      <td>0.0</td>\n",
       "      <td>0.00000</td>\n",
       "    </tr>\n",
       "    <tr>\n",
       "      <th>25%</th>\n",
       "      <td>0.000000</td>\n",
       "      <td>0.000000</td>\n",
       "      <td>0.000000</td>\n",
       "      <td>0.000000</td>\n",
       "      <td>0.000000</td>\n",
       "      <td>1.000000</td>\n",
       "      <td>1.000000</td>\n",
       "      <td>0.000000</td>\n",
       "      <td>0.250000</td>\n",
       "      <td>1.00000</td>\n",
       "      <td>0.0</td>\n",
       "      <td>0.00000</td>\n",
       "    </tr>\n",
       "    <tr>\n",
       "      <th>50%</th>\n",
       "      <td>1.000000</td>\n",
       "      <td>0.000000</td>\n",
       "      <td>0.000000</td>\n",
       "      <td>0.000000</td>\n",
       "      <td>0.000000</td>\n",
       "      <td>1.000000</td>\n",
       "      <td>1.000000</td>\n",
       "      <td>0.000000</td>\n",
       "      <td>1.000000</td>\n",
       "      <td>1.00000</td>\n",
       "      <td>0.0</td>\n",
       "      <td>0.00000</td>\n",
       "    </tr>\n",
       "    <tr>\n",
       "      <th>75%</th>\n",
       "      <td>1.000000</td>\n",
       "      <td>2.000000</td>\n",
       "      <td>2.000000</td>\n",
       "      <td>1.000000</td>\n",
       "      <td>1.000000</td>\n",
       "      <td>1.000000</td>\n",
       "      <td>1.000000</td>\n",
       "      <td>0.750000</td>\n",
       "      <td>1.000000</td>\n",
       "      <td>1.00000</td>\n",
       "      <td>0.0</td>\n",
       "      <td>0.00000</td>\n",
       "    </tr>\n",
       "    <tr>\n",
       "      <th>max</th>\n",
       "      <td>1.000000</td>\n",
       "      <td>6.000000</td>\n",
       "      <td>10.000000</td>\n",
       "      <td>1.000000</td>\n",
       "      <td>1.000000</td>\n",
       "      <td>1.000000</td>\n",
       "      <td>1.000000</td>\n",
       "      <td>1.000000</td>\n",
       "      <td>1.000000</td>\n",
       "      <td>1.00000</td>\n",
       "      <td>0.0</td>\n",
       "      <td>1.00000</td>\n",
       "    </tr>\n",
       "  </tbody>\n",
       "</table>\n",
       "</div>"
      ],
      "text/plain": [
       "       Екатеринбург  Кол-во долгов  Кол-во пересдач     Бюджет  \\\n",
       "count     94.000000      94.000000        94.000000  94.000000   \n",
       "mean       0.670213       1.042553         1.276596   0.414894   \n",
       "std        0.472657       1.625832         1.931094   0.495346   \n",
       "min        0.000000       0.000000         0.000000   0.000000   \n",
       "25%        0.000000       0.000000         0.000000   0.000000   \n",
       "50%        1.000000       0.000000         0.000000   0.000000   \n",
       "75%        1.000000       2.000000         2.000000   1.000000   \n",
       "max        1.000000       6.000000        10.000000   1.000000   \n",
       "\n",
       "       Вред. привычки  Самообразование  Национальность    Женщина    Мужчина  \\\n",
       "count       94.000000        94.000000       94.000000  94.000000  94.000000   \n",
       "mean         0.319149         0.882979        0.978723   0.255319   0.744681   \n",
       "std          0.468646         0.323169        0.145079   0.438378   0.438378   \n",
       "min          0.000000         0.000000        0.000000   0.000000   0.000000   \n",
       "25%          0.000000         1.000000        1.000000   0.000000   0.250000   \n",
       "50%          0.000000         1.000000        1.000000   0.000000   1.000000   \n",
       "75%          1.000000         1.000000        1.000000   0.750000   1.000000   \n",
       "max          1.000000         1.000000        1.000000   1.000000   1.000000   \n",
       "\n",
       "          Школа   Вуз       СПО  \n",
       "count  94.00000  94.0  94.00000  \n",
       "mean    0.93617   0.0   0.06383  \n",
       "std     0.24576   0.0   0.24576  \n",
       "min     0.00000   0.0   0.00000  \n",
       "25%     1.00000   0.0   0.00000  \n",
       "50%     1.00000   0.0   0.00000  \n",
       "75%     1.00000   0.0   0.00000  \n",
       "max     1.00000   0.0   1.00000  "
      ]
     },
     "execution_count": 1491,
     "metadata": {},
     "output_type": "execute_result"
    }
   ],
   "source": [
    "data.describe()"
   ]
  },
  {
   "cell_type": "code",
   "execution_count": 1492,
   "id": "d9b113cf",
   "metadata": {},
   "outputs": [
    {
     "data": {
      "text/html": [
       "<div>\n",
       "<style scoped>\n",
       "    .dataframe tbody tr th:only-of-type {\n",
       "        vertical-align: middle;\n",
       "    }\n",
       "\n",
       "    .dataframe tbody tr th {\n",
       "        vertical-align: top;\n",
       "    }\n",
       "\n",
       "    .dataframe thead th {\n",
       "        text-align: right;\n",
       "    }\n",
       "</style>\n",
       "<table border=\"1\" class=\"dataframe\">\n",
       "  <thead>\n",
       "    <tr style=\"text-align: right;\">\n",
       "      <th></th>\n",
       "      <th>Екатеринбург</th>\n",
       "      <th>Кол-во долгов</th>\n",
       "      <th>Кол-во пересдач</th>\n",
       "      <th>Бюджет</th>\n",
       "      <th>Вред. привычки</th>\n",
       "      <th>Самообразование</th>\n",
       "      <th>Национальность</th>\n",
       "      <th>Отчислен/Обучаюсь</th>\n",
       "      <th>Женщина</th>\n",
       "      <th>Мужчина</th>\n",
       "      <th>Школа</th>\n",
       "      <th>Вуз</th>\n",
       "      <th>СПО</th>\n",
       "    </tr>\n",
       "  </thead>\n",
       "  <tbody>\n",
       "    <tr>\n",
       "      <th>0</th>\n",
       "      <td>False</td>\n",
       "      <td>False</td>\n",
       "      <td>False</td>\n",
       "      <td>False</td>\n",
       "      <td>False</td>\n",
       "      <td>False</td>\n",
       "      <td>False</td>\n",
       "      <td>False</td>\n",
       "      <td>False</td>\n",
       "      <td>False</td>\n",
       "      <td>False</td>\n",
       "      <td>False</td>\n",
       "      <td>False</td>\n",
       "    </tr>\n",
       "    <tr>\n",
       "      <th>1</th>\n",
       "      <td>False</td>\n",
       "      <td>False</td>\n",
       "      <td>False</td>\n",
       "      <td>False</td>\n",
       "      <td>False</td>\n",
       "      <td>False</td>\n",
       "      <td>False</td>\n",
       "      <td>False</td>\n",
       "      <td>False</td>\n",
       "      <td>False</td>\n",
       "      <td>False</td>\n",
       "      <td>False</td>\n",
       "      <td>False</td>\n",
       "    </tr>\n",
       "    <tr>\n",
       "      <th>2</th>\n",
       "      <td>False</td>\n",
       "      <td>False</td>\n",
       "      <td>False</td>\n",
       "      <td>False</td>\n",
       "      <td>False</td>\n",
       "      <td>False</td>\n",
       "      <td>False</td>\n",
       "      <td>False</td>\n",
       "      <td>False</td>\n",
       "      <td>False</td>\n",
       "      <td>False</td>\n",
       "      <td>False</td>\n",
       "      <td>False</td>\n",
       "    </tr>\n",
       "    <tr>\n",
       "      <th>3</th>\n",
       "      <td>False</td>\n",
       "      <td>False</td>\n",
       "      <td>False</td>\n",
       "      <td>False</td>\n",
       "      <td>False</td>\n",
       "      <td>False</td>\n",
       "      <td>False</td>\n",
       "      <td>False</td>\n",
       "      <td>False</td>\n",
       "      <td>False</td>\n",
       "      <td>False</td>\n",
       "      <td>False</td>\n",
       "      <td>False</td>\n",
       "    </tr>\n",
       "    <tr>\n",
       "      <th>4</th>\n",
       "      <td>False</td>\n",
       "      <td>False</td>\n",
       "      <td>False</td>\n",
       "      <td>False</td>\n",
       "      <td>False</td>\n",
       "      <td>False</td>\n",
       "      <td>False</td>\n",
       "      <td>False</td>\n",
       "      <td>False</td>\n",
       "      <td>False</td>\n",
       "      <td>False</td>\n",
       "      <td>False</td>\n",
       "      <td>False</td>\n",
       "    </tr>\n",
       "    <tr>\n",
       "      <th>...</th>\n",
       "      <td>...</td>\n",
       "      <td>...</td>\n",
       "      <td>...</td>\n",
       "      <td>...</td>\n",
       "      <td>...</td>\n",
       "      <td>...</td>\n",
       "      <td>...</td>\n",
       "      <td>...</td>\n",
       "      <td>...</td>\n",
       "      <td>...</td>\n",
       "      <td>...</td>\n",
       "      <td>...</td>\n",
       "      <td>...</td>\n",
       "    </tr>\n",
       "    <tr>\n",
       "      <th>89</th>\n",
       "      <td>False</td>\n",
       "      <td>False</td>\n",
       "      <td>False</td>\n",
       "      <td>False</td>\n",
       "      <td>False</td>\n",
       "      <td>False</td>\n",
       "      <td>False</td>\n",
       "      <td>False</td>\n",
       "      <td>False</td>\n",
       "      <td>False</td>\n",
       "      <td>False</td>\n",
       "      <td>False</td>\n",
       "      <td>False</td>\n",
       "    </tr>\n",
       "    <tr>\n",
       "      <th>90</th>\n",
       "      <td>False</td>\n",
       "      <td>False</td>\n",
       "      <td>False</td>\n",
       "      <td>False</td>\n",
       "      <td>False</td>\n",
       "      <td>False</td>\n",
       "      <td>False</td>\n",
       "      <td>False</td>\n",
       "      <td>False</td>\n",
       "      <td>False</td>\n",
       "      <td>False</td>\n",
       "      <td>False</td>\n",
       "      <td>False</td>\n",
       "    </tr>\n",
       "    <tr>\n",
       "      <th>91</th>\n",
       "      <td>False</td>\n",
       "      <td>False</td>\n",
       "      <td>False</td>\n",
       "      <td>False</td>\n",
       "      <td>False</td>\n",
       "      <td>False</td>\n",
       "      <td>False</td>\n",
       "      <td>False</td>\n",
       "      <td>False</td>\n",
       "      <td>False</td>\n",
       "      <td>False</td>\n",
       "      <td>False</td>\n",
       "      <td>False</td>\n",
       "    </tr>\n",
       "    <tr>\n",
       "      <th>92</th>\n",
       "      <td>False</td>\n",
       "      <td>False</td>\n",
       "      <td>False</td>\n",
       "      <td>False</td>\n",
       "      <td>False</td>\n",
       "      <td>False</td>\n",
       "      <td>False</td>\n",
       "      <td>False</td>\n",
       "      <td>False</td>\n",
       "      <td>False</td>\n",
       "      <td>False</td>\n",
       "      <td>False</td>\n",
       "      <td>False</td>\n",
       "    </tr>\n",
       "    <tr>\n",
       "      <th>93</th>\n",
       "      <td>False</td>\n",
       "      <td>False</td>\n",
       "      <td>False</td>\n",
       "      <td>False</td>\n",
       "      <td>False</td>\n",
       "      <td>False</td>\n",
       "      <td>False</td>\n",
       "      <td>False</td>\n",
       "      <td>False</td>\n",
       "      <td>False</td>\n",
       "      <td>False</td>\n",
       "      <td>False</td>\n",
       "      <td>False</td>\n",
       "    </tr>\n",
       "  </tbody>\n",
       "</table>\n",
       "<p>94 rows × 13 columns</p>\n",
       "</div>"
      ],
      "text/plain": [
       "    Екатеринбург  Кол-во долгов  Кол-во пересдач  Бюджет  Вред. привычки  \\\n",
       "0          False          False            False   False           False   \n",
       "1          False          False            False   False           False   \n",
       "2          False          False            False   False           False   \n",
       "3          False          False            False   False           False   \n",
       "4          False          False            False   False           False   \n",
       "..           ...            ...              ...     ...             ...   \n",
       "89         False          False            False   False           False   \n",
       "90         False          False            False   False           False   \n",
       "91         False          False            False   False           False   \n",
       "92         False          False            False   False           False   \n",
       "93         False          False            False   False           False   \n",
       "\n",
       "    Самообразование  Национальность  Отчислен/Обучаюсь  Женщина  Мужчина  \\\n",
       "0             False           False              False    False    False   \n",
       "1             False           False              False    False    False   \n",
       "2             False           False              False    False    False   \n",
       "3             False           False              False    False    False   \n",
       "4             False           False              False    False    False   \n",
       "..              ...             ...                ...      ...      ...   \n",
       "89            False           False              False    False    False   \n",
       "90            False           False              False    False    False   \n",
       "91            False           False              False    False    False   \n",
       "92            False           False              False    False    False   \n",
       "93            False           False              False    False    False   \n",
       "\n",
       "    Школа    Вуз    СПО  \n",
       "0   False  False  False  \n",
       "1   False  False  False  \n",
       "2   False  False  False  \n",
       "3   False  False  False  \n",
       "4   False  False  False  \n",
       "..    ...    ...    ...  \n",
       "89  False  False  False  \n",
       "90  False  False  False  \n",
       "91  False  False  False  \n",
       "92  False  False  False  \n",
       "93  False  False  False  \n",
       "\n",
       "[94 rows x 13 columns]"
      ]
     },
     "execution_count": 1492,
     "metadata": {},
     "output_type": "execute_result"
    }
   ],
   "source": [
    "data.drop(data.columns [[0,1,2,7]], axis= 1 , inplace= True)\n",
    "data.isna()"
   ]
  },
  {
   "cell_type": "markdown",
   "id": "c094f14b",
   "metadata": {},
   "source": [
    "Создание тренировочного и тестового набора"
   ]
  },
  {
   "cell_type": "code",
   "execution_count": 1493,
   "id": "10327754",
   "metadata": {},
   "outputs": [],
   "source": [
    "train = data.sample (frac= 0.7 ,random_state= 58 )\n",
    "test = data.drop (train. index )"
   ]
  },
  {
   "cell_type": "code",
   "execution_count": 1494,
   "id": "e0bca9ea",
   "metadata": {},
   "outputs": [
    {
     "name": "stdout",
     "output_type": "stream",
     "text": [
      "    Екатеринбург  Кол-во долгов  Кол-во пересдач  Бюджет  Вред. привычки  \\\n",
      "56             1              0                2       1               0   \n",
      "26             1              1                2       0               0   \n",
      "89             1              0                0       0               0   \n",
      "31             1              0                0       1               0   \n",
      "77             1              1                0       0               1   \n",
      "\n",
      "    Самообразование  Национальность Отчислен/Обучаюсь  Женщина  Мужчина  \\\n",
      "56                1               1          Обучаюсь        1        0   \n",
      "26                1               1          Обучаюсь        0        1   \n",
      "89                1               1          Обучаюсь        0        1   \n",
      "31                1               1          Обучаюсь        1        0   \n",
      "77                1               1          Обучаюсь        0        1   \n",
      "\n",
      "    Школа  Вуз  СПО  \n",
      "56      1    0    0  \n",
      "26      1    0    0  \n",
      "89      0    0    1  \n",
      "31      1    0    0  \n",
      "77      1    0    0  \n"
     ]
    }
   ],
   "source": [
    "print(train.head())"
   ]
  },
  {
   "cell_type": "code",
   "execution_count": 1495,
   "id": "2bc74b73",
   "metadata": {},
   "outputs": [
    {
     "name": "stdout",
     "output_type": "stream",
     "text": [
      "    Екатеринбург  Кол-во долгов  Кол-во пересдач  Бюджет  Вред. привычки  \\\n",
      "0              0              0                0       1               0   \n",
      "3              1              1                1       0               0   \n",
      "12             1              4                3       0               0   \n",
      "14             1              0                0       1               0   \n",
      "21             1              0                1       0               0   \n",
      "23             1              0                0       0               0   \n",
      "25             0              4                3       0               1   \n",
      "29             0              0                0       0               0   \n",
      "32             0              0                1       0               0   \n",
      "33             1              4                2       0               1   \n",
      "34             1              6                0       0               1   \n",
      "35             1              5                0       1               0   \n",
      "37             1              0                1       1               0   \n",
      "38             1              0                0       1               0   \n",
      "39             0              3                2       1               0   \n",
      "46             1              0                8       1               1   \n",
      "47             1              0                2       1               0   \n",
      "49             1              0                0       1               0   \n",
      "52             0              2                0       0               0   \n",
      "61             1              0                0       0               0   \n",
      "62             1              0                0       1               0   \n",
      "66             1              6                0       0               0   \n",
      "67             0              0                0       1               0   \n",
      "72             1              2                2       0               0   \n",
      "81             1              0                0       1               1   \n",
      "83             0              0                0       1               0   \n",
      "90             1              2                2       1               1   \n",
      "93             1              4                1       1               1   \n",
      "\n",
      "    Самообразование  Национальность Отчислен/Обучаюсь  Женщина  Мужчина  \\\n",
      "0                 1               1          Обучаюсь        1        0   \n",
      "3                 1               1          Обучаюсь        0        1   \n",
      "12                1               1          Обучаюсь        0        1   \n",
      "14                1               1          Обучаюсь        0        1   \n",
      "21                1               1          Обучаюсь        0        1   \n",
      "23                1               1          Обучаюсь        0        1   \n",
      "25                0               1          Обучаюсь        0        1   \n",
      "29                1               1          Обучаюсь        1        0   \n",
      "32                1               1          Обучаюсь        1        0   \n",
      "33                0               1          Отчислен        0        1   \n",
      "34                0               1          Отчислен        0        1   \n",
      "35                1               1          Отчислен        0        1   \n",
      "37                1               1          Обучаюсь        0        1   \n",
      "38                1               1          Обучаюсь        1        0   \n",
      "39                1               1          Обучаюсь        0        1   \n",
      "46                1               0          Обучаюсь        0        1   \n",
      "47                1               1          Обучаюсь        1        0   \n",
      "49                1               1          Обучаюсь        1        0   \n",
      "52                1               1          Обучаюсь        1        0   \n",
      "61                1               1          Обучаюсь        0        1   \n",
      "62                1               1          Обучаюсь        1        0   \n",
      "66                1               1          Обучаюсь        0        1   \n",
      "67                1               1          Обучаюсь        0        1   \n",
      "72                1               1          Обучаюсь        0        1   \n",
      "81                1               1          Обучаюсь        0        1   \n",
      "83                1               1          Обучаюсь        1        0   \n",
      "90                1               1          Обучаюсь        0        1   \n",
      "93                0               1          Обучаюсь        0        1   \n",
      "\n",
      "    Школа  Вуз  СПО  \n",
      "0       1    0    0  \n",
      "3       1    0    0  \n",
      "12      1    0    0  \n",
      "14      1    0    0  \n",
      "21      1    0    0  \n",
      "23      1    0    0  \n",
      "25      1    0    0  \n",
      "29      1    0    0  \n",
      "32      1    0    0  \n",
      "33      1    0    0  \n",
      "34      1    0    0  \n",
      "35      1    0    0  \n",
      "37      0    0    1  \n",
      "38      1    0    0  \n",
      "39      0    0    1  \n",
      "46      1    0    0  \n",
      "47      1    0    0  \n",
      "49      1    0    0  \n",
      "52      1    0    0  \n",
      "61      1    0    0  \n",
      "62      1    0    0  \n",
      "66      1    0    0  \n",
      "67      1    0    0  \n",
      "72      1    0    0  \n",
      "81      0    0    1  \n",
      "83      1    0    0  \n",
      "90      1    0    0  \n",
      "93      0    0    1  \n"
     ]
    }
   ],
   "source": [
    "print(test.head(28))"
   ]
  },
  {
   "cell_type": "code",
   "execution_count": 1496,
   "id": "7fc3ecfe",
   "metadata": {},
   "outputs": [
    {
     "name": "stdout",
     "output_type": "stream",
     "text": [
      "(66, 13) (28, 13)\n"
     ]
    }
   ],
   "source": [
    "print(train. shape , test. shape )"
   ]
  },
  {
   "cell_type": "code",
   "execution_count": 1497,
   "id": "6f02afa6",
   "metadata": {},
   "outputs": [],
   "source": [
    "X_train = train.drop('Отчислен/Обучаюсь', axis = 1)\n",
    "Y_train = train['Отчислен/Обучаюсь']"
   ]
  },
  {
   "cell_type": "code",
   "execution_count": 1498,
   "id": "2a6f0385",
   "metadata": {},
   "outputs": [],
   "source": [
    "X_test = test.drop('Отчислен/Обучаюсь', axis = 1)\n",
    "Y_test = test['Отчислен/Обучаюсь']"
   ]
  },
  {
   "cell_type": "code",
   "execution_count": null,
   "id": "b5d9aca1",
   "metadata": {},
   "outputs": [],
   "source": []
  },
  {
   "cell_type": "code",
   "execution_count": 1499,
   "id": "694ffcdc",
   "metadata": {},
   "outputs": [],
   "source": [
    "#Метод k-ближайших соседей (K-Nearest Neighbors)\n",
    "from sklearn.neighbors import KNeighborsClassifier\n",
    "knn = KNeighborsClassifier(n_neighbors=3)"
   ]
  },
  {
   "cell_type": "code",
   "execution_count": 1500,
   "id": "2ec814ef",
   "metadata": {},
   "outputs": [
    {
     "data": {
      "text/html": [
       "<style>#sk-container-id-66 {color: black;background-color: white;}#sk-container-id-66 pre{padding: 0;}#sk-container-id-66 div.sk-toggleable {background-color: white;}#sk-container-id-66 label.sk-toggleable__label {cursor: pointer;display: block;width: 100%;margin-bottom: 0;padding: 0.3em;box-sizing: border-box;text-align: center;}#sk-container-id-66 label.sk-toggleable__label-arrow:before {content: \"▸\";float: left;margin-right: 0.25em;color: #696969;}#sk-container-id-66 label.sk-toggleable__label-arrow:hover:before {color: black;}#sk-container-id-66 div.sk-estimator:hover label.sk-toggleable__label-arrow:before {color: black;}#sk-container-id-66 div.sk-toggleable__content {max-height: 0;max-width: 0;overflow: hidden;text-align: left;background-color: #f0f8ff;}#sk-container-id-66 div.sk-toggleable__content pre {margin: 0.2em;color: black;border-radius: 0.25em;background-color: #f0f8ff;}#sk-container-id-66 input.sk-toggleable__control:checked~div.sk-toggleable__content {max-height: 200px;max-width: 100%;overflow: auto;}#sk-container-id-66 input.sk-toggleable__control:checked~label.sk-toggleable__label-arrow:before {content: \"▾\";}#sk-container-id-66 div.sk-estimator input.sk-toggleable__control:checked~label.sk-toggleable__label {background-color: #d4ebff;}#sk-container-id-66 div.sk-label input.sk-toggleable__control:checked~label.sk-toggleable__label {background-color: #d4ebff;}#sk-container-id-66 input.sk-hidden--visually {border: 0;clip: rect(1px 1px 1px 1px);clip: rect(1px, 1px, 1px, 1px);height: 1px;margin: -1px;overflow: hidden;padding: 0;position: absolute;width: 1px;}#sk-container-id-66 div.sk-estimator {font-family: monospace;background-color: #f0f8ff;border: 1px dotted black;border-radius: 0.25em;box-sizing: border-box;margin-bottom: 0.5em;}#sk-container-id-66 div.sk-estimator:hover {background-color: #d4ebff;}#sk-container-id-66 div.sk-parallel-item::after {content: \"\";width: 100%;border-bottom: 1px solid gray;flex-grow: 1;}#sk-container-id-66 div.sk-label:hover label.sk-toggleable__label {background-color: #d4ebff;}#sk-container-id-66 div.sk-serial::before {content: \"\";position: absolute;border-left: 1px solid gray;box-sizing: border-box;top: 0;bottom: 0;left: 50%;z-index: 0;}#sk-container-id-66 div.sk-serial {display: flex;flex-direction: column;align-items: center;background-color: white;padding-right: 0.2em;padding-left: 0.2em;position: relative;}#sk-container-id-66 div.sk-item {position: relative;z-index: 1;}#sk-container-id-66 div.sk-parallel {display: flex;align-items: stretch;justify-content: center;background-color: white;position: relative;}#sk-container-id-66 div.sk-item::before, #sk-container-id-66 div.sk-parallel-item::before {content: \"\";position: absolute;border-left: 1px solid gray;box-sizing: border-box;top: 0;bottom: 0;left: 50%;z-index: -1;}#sk-container-id-66 div.sk-parallel-item {display: flex;flex-direction: column;z-index: 1;position: relative;background-color: white;}#sk-container-id-66 div.sk-parallel-item:first-child::after {align-self: flex-end;width: 50%;}#sk-container-id-66 div.sk-parallel-item:last-child::after {align-self: flex-start;width: 50%;}#sk-container-id-66 div.sk-parallel-item:only-child::after {width: 0;}#sk-container-id-66 div.sk-dashed-wrapped {border: 1px dashed gray;margin: 0 0.4em 0.5em 0.4em;box-sizing: border-box;padding-bottom: 0.4em;background-color: white;}#sk-container-id-66 div.sk-label label {font-family: monospace;font-weight: bold;display: inline-block;line-height: 1.2em;}#sk-container-id-66 div.sk-label-container {text-align: center;}#sk-container-id-66 div.sk-container {/* jupyter's `normalize.less` sets `[hidden] { display: none; }` but bootstrap.min.css set `[hidden] { display: none !important; }` so we also need the `!important` here to be able to override the default hidden behavior on the sphinx rendered scikit-learn.org. See: https://github.com/scikit-learn/scikit-learn/issues/21755 */display: inline-block !important;position: relative;}#sk-container-id-66 div.sk-text-repr-fallback {display: none;}</style><div id=\"sk-container-id-66\" class=\"sk-top-container\"><div class=\"sk-text-repr-fallback\"><pre>KNeighborsClassifier(n_neighbors=3)</pre><b>In a Jupyter environment, please rerun this cell to show the HTML representation or trust the notebook. <br />On GitHub, the HTML representation is unable to render, please try loading this page with nbviewer.org.</b></div><div class=\"sk-container\" hidden><div class=\"sk-item\"><div class=\"sk-estimator sk-toggleable\"><input class=\"sk-toggleable__control sk-hidden--visually\" id=\"sk-estimator-id-66\" type=\"checkbox\" checked><label for=\"sk-estimator-id-66\" class=\"sk-toggleable__label sk-toggleable__label-arrow\">KNeighborsClassifier</label><div class=\"sk-toggleable__content\"><pre>KNeighborsClassifier(n_neighbors=3)</pre></div></div></div></div></div>"
      ],
      "text/plain": [
       "KNeighborsClassifier(n_neighbors=3)"
      ]
     },
     "execution_count": 1500,
     "metadata": {},
     "output_type": "execute_result"
    }
   ],
   "source": [
    "knn.fit(X_train, Y_train)"
   ]
  },
  {
   "cell_type": "code",
   "execution_count": 1501,
   "id": "e95b7607",
   "metadata": {},
   "outputs": [
    {
     "name": "stdout",
     "output_type": "stream",
     "text": [
      "0.9696969696969697\n",
      "0.8928571428571429\n"
     ]
    }
   ],
   "source": [
    "print(knn.score(X_train, Y_train))\n",
    "print(knn.score(X_test, Y_test))"
   ]
  },
  {
   "cell_type": "code",
   "execution_count": 1502,
   "id": "3dffad26",
   "metadata": {},
   "outputs": [
    {
     "name": "stdout",
     "output_type": "stream",
     "text": [
      "0.8928571428571429\n",
      "[[25  3]\n",
      " [ 0  0]]\n",
      "              precision    recall  f1-score   support\n",
      "\n",
      "    Обучаюсь       1.00      0.89      0.94        28\n",
      "    Отчислен       0.00      0.00      0.00         0\n",
      "\n",
      "    accuracy                           0.89        28\n",
      "   macro avg       0.50      0.45      0.47        28\n",
      "weighted avg       1.00      0.89      0.94        28\n",
      "\n"
     ]
    },
    {
     "name": "stderr",
     "output_type": "stream",
     "text": [
      "C:\\Users\\HP\\anaconda3\\lib\\site-packages\\sklearn\\metrics\\_classification.py:1344: UndefinedMetricWarning: Recall and F-score are ill-defined and being set to 0.0 in labels with no true samples. Use `zero_division` parameter to control this behavior.\n",
      "  _warn_prf(average, modifier, msg_start, len(result))\n",
      "C:\\Users\\HP\\anaconda3\\lib\\site-packages\\sklearn\\metrics\\_classification.py:1344: UndefinedMetricWarning: Recall and F-score are ill-defined and being set to 0.0 in labels with no true samples. Use `zero_division` parameter to control this behavior.\n",
      "  _warn_prf(average, modifier, msg_start, len(result))\n",
      "C:\\Users\\HP\\anaconda3\\lib\\site-packages\\sklearn\\metrics\\_classification.py:1344: UndefinedMetricWarning: Recall and F-score are ill-defined and being set to 0.0 in labels with no true samples. Use `zero_division` parameter to control this behavior.\n",
      "  _warn_prf(average, modifier, msg_start, len(result))\n"
     ]
    }
   ],
   "source": [
    "pred_y = knn.predict(X_test)\n",
    "from sklearn import metrics\n",
    "print(accuracy_score(pred_y, Y_test))\n",
    "print(confusion_matrix(pred_y,Y_test))\n",
    "print(metrics.classification_report(pred_y,Y_test))"
   ]
  },
  {
   "cell_type": "code",
   "execution_count": null,
   "id": "c0e9316b",
   "metadata": {},
   "outputs": [],
   "source": []
  },
  {
   "cell_type": "code",
   "execution_count": 1503,
   "id": "0c38b33b",
   "metadata": {},
   "outputs": [
    {
     "data": {
      "text/html": [
       "<style>#sk-container-id-67 {color: black;background-color: white;}#sk-container-id-67 pre{padding: 0;}#sk-container-id-67 div.sk-toggleable {background-color: white;}#sk-container-id-67 label.sk-toggleable__label {cursor: pointer;display: block;width: 100%;margin-bottom: 0;padding: 0.3em;box-sizing: border-box;text-align: center;}#sk-container-id-67 label.sk-toggleable__label-arrow:before {content: \"▸\";float: left;margin-right: 0.25em;color: #696969;}#sk-container-id-67 label.sk-toggleable__label-arrow:hover:before {color: black;}#sk-container-id-67 div.sk-estimator:hover label.sk-toggleable__label-arrow:before {color: black;}#sk-container-id-67 div.sk-toggleable__content {max-height: 0;max-width: 0;overflow: hidden;text-align: left;background-color: #f0f8ff;}#sk-container-id-67 div.sk-toggleable__content pre {margin: 0.2em;color: black;border-radius: 0.25em;background-color: #f0f8ff;}#sk-container-id-67 input.sk-toggleable__control:checked~div.sk-toggleable__content {max-height: 200px;max-width: 100%;overflow: auto;}#sk-container-id-67 input.sk-toggleable__control:checked~label.sk-toggleable__label-arrow:before {content: \"▾\";}#sk-container-id-67 div.sk-estimator input.sk-toggleable__control:checked~label.sk-toggleable__label {background-color: #d4ebff;}#sk-container-id-67 div.sk-label input.sk-toggleable__control:checked~label.sk-toggleable__label {background-color: #d4ebff;}#sk-container-id-67 input.sk-hidden--visually {border: 0;clip: rect(1px 1px 1px 1px);clip: rect(1px, 1px, 1px, 1px);height: 1px;margin: -1px;overflow: hidden;padding: 0;position: absolute;width: 1px;}#sk-container-id-67 div.sk-estimator {font-family: monospace;background-color: #f0f8ff;border: 1px dotted black;border-radius: 0.25em;box-sizing: border-box;margin-bottom: 0.5em;}#sk-container-id-67 div.sk-estimator:hover {background-color: #d4ebff;}#sk-container-id-67 div.sk-parallel-item::after {content: \"\";width: 100%;border-bottom: 1px solid gray;flex-grow: 1;}#sk-container-id-67 div.sk-label:hover label.sk-toggleable__label {background-color: #d4ebff;}#sk-container-id-67 div.sk-serial::before {content: \"\";position: absolute;border-left: 1px solid gray;box-sizing: border-box;top: 0;bottom: 0;left: 50%;z-index: 0;}#sk-container-id-67 div.sk-serial {display: flex;flex-direction: column;align-items: center;background-color: white;padding-right: 0.2em;padding-left: 0.2em;position: relative;}#sk-container-id-67 div.sk-item {position: relative;z-index: 1;}#sk-container-id-67 div.sk-parallel {display: flex;align-items: stretch;justify-content: center;background-color: white;position: relative;}#sk-container-id-67 div.sk-item::before, #sk-container-id-67 div.sk-parallel-item::before {content: \"\";position: absolute;border-left: 1px solid gray;box-sizing: border-box;top: 0;bottom: 0;left: 50%;z-index: -1;}#sk-container-id-67 div.sk-parallel-item {display: flex;flex-direction: column;z-index: 1;position: relative;background-color: white;}#sk-container-id-67 div.sk-parallel-item:first-child::after {align-self: flex-end;width: 50%;}#sk-container-id-67 div.sk-parallel-item:last-child::after {align-self: flex-start;width: 50%;}#sk-container-id-67 div.sk-parallel-item:only-child::after {width: 0;}#sk-container-id-67 div.sk-dashed-wrapped {border: 1px dashed gray;margin: 0 0.4em 0.5em 0.4em;box-sizing: border-box;padding-bottom: 0.4em;background-color: white;}#sk-container-id-67 div.sk-label label {font-family: monospace;font-weight: bold;display: inline-block;line-height: 1.2em;}#sk-container-id-67 div.sk-label-container {text-align: center;}#sk-container-id-67 div.sk-container {/* jupyter's `normalize.less` sets `[hidden] { display: none; }` but bootstrap.min.css set `[hidden] { display: none !important; }` so we also need the `!important` here to be able to override the default hidden behavior on the sphinx rendered scikit-learn.org. See: https://github.com/scikit-learn/scikit-learn/issues/21755 */display: inline-block !important;position: relative;}#sk-container-id-67 div.sk-text-repr-fallback {display: none;}</style><div id=\"sk-container-id-67\" class=\"sk-top-container\"><div class=\"sk-text-repr-fallback\"><pre>LogisticRegression(random_state=0)</pre><b>In a Jupyter environment, please rerun this cell to show the HTML representation or trust the notebook. <br />On GitHub, the HTML representation is unable to render, please try loading this page with nbviewer.org.</b></div><div class=\"sk-container\" hidden><div class=\"sk-item\"><div class=\"sk-estimator sk-toggleable\"><input class=\"sk-toggleable__control sk-hidden--visually\" id=\"sk-estimator-id-67\" type=\"checkbox\" checked><label for=\"sk-estimator-id-67\" class=\"sk-toggleable__label sk-toggleable__label-arrow\">LogisticRegression</label><div class=\"sk-toggleable__content\"><pre>LogisticRegression(random_state=0)</pre></div></div></div></div></div>"
      ],
      "text/plain": [
       "LogisticRegression(random_state=0)"
      ]
     },
     "execution_count": 1503,
     "metadata": {},
     "output_type": "execute_result"
    }
   ],
   "source": [
    "#логическая регрессия\n",
    "from sklearn.linear_model import LogisticRegression \n",
    "LR = LogisticRegression(random_state=0)\n",
    "LR.fit(X_train, Y_train) "
   ]
  },
  {
   "cell_type": "code",
   "execution_count": 1504,
   "id": "6f5b9aa9",
   "metadata": {},
   "outputs": [
    {
     "name": "stdout",
     "output_type": "stream",
     "text": [
      "0.9696969696969697\n",
      "0.9285714285714286\n"
     ]
    }
   ],
   "source": [
    "print(LR.score(X_train, Y_train))\n",
    "print(LR.score(X_test, Y_test))"
   ]
  },
  {
   "cell_type": "code",
   "execution_count": 1505,
   "id": "82a5d412",
   "metadata": {},
   "outputs": [
    {
     "name": "stdout",
     "output_type": "stream",
     "text": [
      "0.9285714285714286\n",
      "[[25  2]\n",
      " [ 0  1]]\n",
      "              precision    recall  f1-score   support\n",
      "\n",
      "    Обучаюсь       1.00      0.93      0.96        27\n",
      "    Отчислен       0.33      1.00      0.50         1\n",
      "\n",
      "    accuracy                           0.93        28\n",
      "   macro avg       0.67      0.96      0.73        28\n",
      "weighted avg       0.98      0.93      0.95        28\n",
      "\n"
     ]
    }
   ],
   "source": [
    "pred_y = LR.predict(X_test)\n",
    "from sklearn import metrics\n",
    "print(accuracy_score(pred_y, Y_test))\n",
    "print(confusion_matrix(pred_y,Y_test))\n",
    "print(metrics.classification_report(pred_y,Y_test))"
   ]
  },
  {
   "cell_type": "code",
   "execution_count": null,
   "id": "7997a707",
   "metadata": {},
   "outputs": [],
   "source": []
  },
  {
   "cell_type": "code",
   "execution_count": 1506,
   "id": "ae7c70cd",
   "metadata": {},
   "outputs": [
    {
     "data": {
      "text/html": [
       "<style>#sk-container-id-68 {color: black;background-color: white;}#sk-container-id-68 pre{padding: 0;}#sk-container-id-68 div.sk-toggleable {background-color: white;}#sk-container-id-68 label.sk-toggleable__label {cursor: pointer;display: block;width: 100%;margin-bottom: 0;padding: 0.3em;box-sizing: border-box;text-align: center;}#sk-container-id-68 label.sk-toggleable__label-arrow:before {content: \"▸\";float: left;margin-right: 0.25em;color: #696969;}#sk-container-id-68 label.sk-toggleable__label-arrow:hover:before {color: black;}#sk-container-id-68 div.sk-estimator:hover label.sk-toggleable__label-arrow:before {color: black;}#sk-container-id-68 div.sk-toggleable__content {max-height: 0;max-width: 0;overflow: hidden;text-align: left;background-color: #f0f8ff;}#sk-container-id-68 div.sk-toggleable__content pre {margin: 0.2em;color: black;border-radius: 0.25em;background-color: #f0f8ff;}#sk-container-id-68 input.sk-toggleable__control:checked~div.sk-toggleable__content {max-height: 200px;max-width: 100%;overflow: auto;}#sk-container-id-68 input.sk-toggleable__control:checked~label.sk-toggleable__label-arrow:before {content: \"▾\";}#sk-container-id-68 div.sk-estimator input.sk-toggleable__control:checked~label.sk-toggleable__label {background-color: #d4ebff;}#sk-container-id-68 div.sk-label input.sk-toggleable__control:checked~label.sk-toggleable__label {background-color: #d4ebff;}#sk-container-id-68 input.sk-hidden--visually {border: 0;clip: rect(1px 1px 1px 1px);clip: rect(1px, 1px, 1px, 1px);height: 1px;margin: -1px;overflow: hidden;padding: 0;position: absolute;width: 1px;}#sk-container-id-68 div.sk-estimator {font-family: monospace;background-color: #f0f8ff;border: 1px dotted black;border-radius: 0.25em;box-sizing: border-box;margin-bottom: 0.5em;}#sk-container-id-68 div.sk-estimator:hover {background-color: #d4ebff;}#sk-container-id-68 div.sk-parallel-item::after {content: \"\";width: 100%;border-bottom: 1px solid gray;flex-grow: 1;}#sk-container-id-68 div.sk-label:hover label.sk-toggleable__label {background-color: #d4ebff;}#sk-container-id-68 div.sk-serial::before {content: \"\";position: absolute;border-left: 1px solid gray;box-sizing: border-box;top: 0;bottom: 0;left: 50%;z-index: 0;}#sk-container-id-68 div.sk-serial {display: flex;flex-direction: column;align-items: center;background-color: white;padding-right: 0.2em;padding-left: 0.2em;position: relative;}#sk-container-id-68 div.sk-item {position: relative;z-index: 1;}#sk-container-id-68 div.sk-parallel {display: flex;align-items: stretch;justify-content: center;background-color: white;position: relative;}#sk-container-id-68 div.sk-item::before, #sk-container-id-68 div.sk-parallel-item::before {content: \"\";position: absolute;border-left: 1px solid gray;box-sizing: border-box;top: 0;bottom: 0;left: 50%;z-index: -1;}#sk-container-id-68 div.sk-parallel-item {display: flex;flex-direction: column;z-index: 1;position: relative;background-color: white;}#sk-container-id-68 div.sk-parallel-item:first-child::after {align-self: flex-end;width: 50%;}#sk-container-id-68 div.sk-parallel-item:last-child::after {align-self: flex-start;width: 50%;}#sk-container-id-68 div.sk-parallel-item:only-child::after {width: 0;}#sk-container-id-68 div.sk-dashed-wrapped {border: 1px dashed gray;margin: 0 0.4em 0.5em 0.4em;box-sizing: border-box;padding-bottom: 0.4em;background-color: white;}#sk-container-id-68 div.sk-label label {font-family: monospace;font-weight: bold;display: inline-block;line-height: 1.2em;}#sk-container-id-68 div.sk-label-container {text-align: center;}#sk-container-id-68 div.sk-container {/* jupyter's `normalize.less` sets `[hidden] { display: none; }` but bootstrap.min.css set `[hidden] { display: none !important; }` so we also need the `!important` here to be able to override the default hidden behavior on the sphinx rendered scikit-learn.org. See: https://github.com/scikit-learn/scikit-learn/issues/21755 */display: inline-block !important;position: relative;}#sk-container-id-68 div.sk-text-repr-fallback {display: none;}</style><div id=\"sk-container-id-68\" class=\"sk-top-container\"><div class=\"sk-text-repr-fallback\"><pre>SVC()</pre><b>In a Jupyter environment, please rerun this cell to show the HTML representation or trust the notebook. <br />On GitHub, the HTML representation is unable to render, please try loading this page with nbviewer.org.</b></div><div class=\"sk-container\" hidden><div class=\"sk-item\"><div class=\"sk-estimator sk-toggleable\"><input class=\"sk-toggleable__control sk-hidden--visually\" id=\"sk-estimator-id-68\" type=\"checkbox\" checked><label for=\"sk-estimator-id-68\" class=\"sk-toggleable__label sk-toggleable__label-arrow\">SVC</label><div class=\"sk-toggleable__content\"><pre>SVC()</pre></div></div></div></div></div>"
      ],
      "text/plain": [
       "SVC()"
      ]
     },
     "execution_count": 1506,
     "metadata": {},
     "output_type": "execute_result"
    }
   ],
   "source": [
    "#метод опорных векторов\n",
    "from sklearn import svm\n",
    "clf = svm.SVC()\n",
    "clf.fit(X_train, Y_train)"
   ]
  },
  {
   "cell_type": "code",
   "execution_count": 1507,
   "id": "03099722",
   "metadata": {},
   "outputs": [
    {
     "name": "stdout",
     "output_type": "stream",
     "text": [
      "0.9696969696969697\n",
      "0.8928571428571429\n"
     ]
    }
   ],
   "source": [
    "print(clf.score(X_train, Y_train))\n",
    "print(clf.score(X_test, Y_test))"
   ]
  },
  {
   "cell_type": "code",
   "execution_count": 1508,
   "id": "b59d3e2d",
   "metadata": {},
   "outputs": [
    {
     "name": "stdout",
     "output_type": "stream",
     "text": [
      "0.8928571428571429\n",
      "[[25  3]\n",
      " [ 0  0]]\n",
      "              precision    recall  f1-score   support\n",
      "\n",
      "    Обучаюсь       1.00      0.89      0.94        28\n",
      "    Отчислен       0.00      0.00      0.00         0\n",
      "\n",
      "    accuracy                           0.89        28\n",
      "   macro avg       0.50      0.45      0.47        28\n",
      "weighted avg       1.00      0.89      0.94        28\n",
      "\n"
     ]
    },
    {
     "name": "stderr",
     "output_type": "stream",
     "text": [
      "C:\\Users\\HP\\anaconda3\\lib\\site-packages\\sklearn\\metrics\\_classification.py:1344: UndefinedMetricWarning: Recall and F-score are ill-defined and being set to 0.0 in labels with no true samples. Use `zero_division` parameter to control this behavior.\n",
      "  _warn_prf(average, modifier, msg_start, len(result))\n",
      "C:\\Users\\HP\\anaconda3\\lib\\site-packages\\sklearn\\metrics\\_classification.py:1344: UndefinedMetricWarning: Recall and F-score are ill-defined and being set to 0.0 in labels with no true samples. Use `zero_division` parameter to control this behavior.\n",
      "  _warn_prf(average, modifier, msg_start, len(result))\n",
      "C:\\Users\\HP\\anaconda3\\lib\\site-packages\\sklearn\\metrics\\_classification.py:1344: UndefinedMetricWarning: Recall and F-score are ill-defined and being set to 0.0 in labels with no true samples. Use `zero_division` parameter to control this behavior.\n",
      "  _warn_prf(average, modifier, msg_start, len(result))\n"
     ]
    }
   ],
   "source": [
    "pred_y = clf.predict(X_test)\n",
    "from sklearn import metrics\n",
    "print(accuracy_score(pred_y, Y_test))\n",
    "print(confusion_matrix(pred_y,Y_test))\n",
    "print(metrics.classification_report(pred_y,Y_test))"
   ]
  },
  {
   "cell_type": "code",
   "execution_count": null,
   "id": "633f459b",
   "metadata": {},
   "outputs": [],
   "source": []
  },
  {
   "cell_type": "code",
   "execution_count": 1509,
   "id": "468f6ddd",
   "metadata": {},
   "outputs": [
    {
     "data": {
      "text/html": [
       "<style>#sk-container-id-69 {color: black;background-color: white;}#sk-container-id-69 pre{padding: 0;}#sk-container-id-69 div.sk-toggleable {background-color: white;}#sk-container-id-69 label.sk-toggleable__label {cursor: pointer;display: block;width: 100%;margin-bottom: 0;padding: 0.3em;box-sizing: border-box;text-align: center;}#sk-container-id-69 label.sk-toggleable__label-arrow:before {content: \"▸\";float: left;margin-right: 0.25em;color: #696969;}#sk-container-id-69 label.sk-toggleable__label-arrow:hover:before {color: black;}#sk-container-id-69 div.sk-estimator:hover label.sk-toggleable__label-arrow:before {color: black;}#sk-container-id-69 div.sk-toggleable__content {max-height: 0;max-width: 0;overflow: hidden;text-align: left;background-color: #f0f8ff;}#sk-container-id-69 div.sk-toggleable__content pre {margin: 0.2em;color: black;border-radius: 0.25em;background-color: #f0f8ff;}#sk-container-id-69 input.sk-toggleable__control:checked~div.sk-toggleable__content {max-height: 200px;max-width: 100%;overflow: auto;}#sk-container-id-69 input.sk-toggleable__control:checked~label.sk-toggleable__label-arrow:before {content: \"▾\";}#sk-container-id-69 div.sk-estimator input.sk-toggleable__control:checked~label.sk-toggleable__label {background-color: #d4ebff;}#sk-container-id-69 div.sk-label input.sk-toggleable__control:checked~label.sk-toggleable__label {background-color: #d4ebff;}#sk-container-id-69 input.sk-hidden--visually {border: 0;clip: rect(1px 1px 1px 1px);clip: rect(1px, 1px, 1px, 1px);height: 1px;margin: -1px;overflow: hidden;padding: 0;position: absolute;width: 1px;}#sk-container-id-69 div.sk-estimator {font-family: monospace;background-color: #f0f8ff;border: 1px dotted black;border-radius: 0.25em;box-sizing: border-box;margin-bottom: 0.5em;}#sk-container-id-69 div.sk-estimator:hover {background-color: #d4ebff;}#sk-container-id-69 div.sk-parallel-item::after {content: \"\";width: 100%;border-bottom: 1px solid gray;flex-grow: 1;}#sk-container-id-69 div.sk-label:hover label.sk-toggleable__label {background-color: #d4ebff;}#sk-container-id-69 div.sk-serial::before {content: \"\";position: absolute;border-left: 1px solid gray;box-sizing: border-box;top: 0;bottom: 0;left: 50%;z-index: 0;}#sk-container-id-69 div.sk-serial {display: flex;flex-direction: column;align-items: center;background-color: white;padding-right: 0.2em;padding-left: 0.2em;position: relative;}#sk-container-id-69 div.sk-item {position: relative;z-index: 1;}#sk-container-id-69 div.sk-parallel {display: flex;align-items: stretch;justify-content: center;background-color: white;position: relative;}#sk-container-id-69 div.sk-item::before, #sk-container-id-69 div.sk-parallel-item::before {content: \"\";position: absolute;border-left: 1px solid gray;box-sizing: border-box;top: 0;bottom: 0;left: 50%;z-index: -1;}#sk-container-id-69 div.sk-parallel-item {display: flex;flex-direction: column;z-index: 1;position: relative;background-color: white;}#sk-container-id-69 div.sk-parallel-item:first-child::after {align-self: flex-end;width: 50%;}#sk-container-id-69 div.sk-parallel-item:last-child::after {align-self: flex-start;width: 50%;}#sk-container-id-69 div.sk-parallel-item:only-child::after {width: 0;}#sk-container-id-69 div.sk-dashed-wrapped {border: 1px dashed gray;margin: 0 0.4em 0.5em 0.4em;box-sizing: border-box;padding-bottom: 0.4em;background-color: white;}#sk-container-id-69 div.sk-label label {font-family: monospace;font-weight: bold;display: inline-block;line-height: 1.2em;}#sk-container-id-69 div.sk-label-container {text-align: center;}#sk-container-id-69 div.sk-container {/* jupyter's `normalize.less` sets `[hidden] { display: none; }` but bootstrap.min.css set `[hidden] { display: none !important; }` so we also need the `!important` here to be able to override the default hidden behavior on the sphinx rendered scikit-learn.org. See: https://github.com/scikit-learn/scikit-learn/issues/21755 */display: inline-block !important;position: relative;}#sk-container-id-69 div.sk-text-repr-fallback {display: none;}</style><div id=\"sk-container-id-69\" class=\"sk-top-container\"><div class=\"sk-text-repr-fallback\"><pre>RandomForestClassifier(max_depth=15, random_state=0)</pre><b>In a Jupyter environment, please rerun this cell to show the HTML representation or trust the notebook. <br />On GitHub, the HTML representation is unable to render, please try loading this page with nbviewer.org.</b></div><div class=\"sk-container\" hidden><div class=\"sk-item\"><div class=\"sk-estimator sk-toggleable\"><input class=\"sk-toggleable__control sk-hidden--visually\" id=\"sk-estimator-id-69\" type=\"checkbox\" checked><label for=\"sk-estimator-id-69\" class=\"sk-toggleable__label sk-toggleable__label-arrow\">RandomForestClassifier</label><div class=\"sk-toggleable__content\"><pre>RandomForestClassifier(max_depth=15, random_state=0)</pre></div></div></div></div></div>"
      ],
      "text/plain": [
       "RandomForestClassifier(max_depth=15, random_state=0)"
      ]
     },
     "execution_count": 1509,
     "metadata": {},
     "output_type": "execute_result"
    }
   ],
   "source": [
    "#случайный лес\n",
    "from sklearn.ensemble import RandomForestClassifier\n",
    "clas = RandomForestClassifier(max_depth=15,random_state=0)\n",
    "clas.fit(X_train, Y_train)"
   ]
  },
  {
   "cell_type": "code",
   "execution_count": 1510,
   "id": "714fde2f",
   "metadata": {},
   "outputs": [
    {
     "name": "stdout",
     "output_type": "stream",
     "text": [
      "[6.48813042e-02 3.86637145e-01 2.64328224e-01 3.56008795e-02\n",
      " 5.61779056e-02 2.06379309e-02 5.49138362e-05 1.09843979e-01\n",
      " 5.81688286e-02 3.84767956e-04 0.00000000e+00 3.28412146e-03]\n"
     ]
    }
   ],
   "source": [
    "print(clas.feature_importances_)"
   ]
  },
  {
   "cell_type": "code",
   "execution_count": 1511,
   "id": "23c0b7fd",
   "metadata": {},
   "outputs": [
    {
     "name": "stdout",
     "output_type": "stream",
     "text": [
      "1.0\n",
      "0.8928571428571429\n"
     ]
    }
   ],
   "source": [
    "print(clas.score(X_train, Y_train))\n",
    "print(clas.score(X_test, Y_test))"
   ]
  },
  {
   "cell_type": "code",
   "execution_count": 1512,
   "id": "d2e7c7ab",
   "metadata": {},
   "outputs": [
    {
     "name": "stdout",
     "output_type": "stream",
     "text": [
      "0.8928571428571429\n",
      "[[25  3]\n",
      " [ 0  0]]\n",
      "              precision    recall  f1-score   support\n",
      "\n",
      "    Обучаюсь       1.00      0.89      0.94        28\n",
      "    Отчислен       0.00      0.00      0.00         0\n",
      "\n",
      "    accuracy                           0.89        28\n",
      "   macro avg       0.50      0.45      0.47        28\n",
      "weighted avg       1.00      0.89      0.94        28\n",
      "\n"
     ]
    },
    {
     "name": "stderr",
     "output_type": "stream",
     "text": [
      "C:\\Users\\HP\\anaconda3\\lib\\site-packages\\sklearn\\metrics\\_classification.py:1344: UndefinedMetricWarning: Recall and F-score are ill-defined and being set to 0.0 in labels with no true samples. Use `zero_division` parameter to control this behavior.\n",
      "  _warn_prf(average, modifier, msg_start, len(result))\n",
      "C:\\Users\\HP\\anaconda3\\lib\\site-packages\\sklearn\\metrics\\_classification.py:1344: UndefinedMetricWarning: Recall and F-score are ill-defined and being set to 0.0 in labels with no true samples. Use `zero_division` parameter to control this behavior.\n",
      "  _warn_prf(average, modifier, msg_start, len(result))\n",
      "C:\\Users\\HP\\anaconda3\\lib\\site-packages\\sklearn\\metrics\\_classification.py:1344: UndefinedMetricWarning: Recall and F-score are ill-defined and being set to 0.0 in labels with no true samples. Use `zero_division` parameter to control this behavior.\n",
      "  _warn_prf(average, modifier, msg_start, len(result))\n"
     ]
    }
   ],
   "source": [
    "pred_y = clas.predict(X_test)\n",
    "from sklearn import metrics\n",
    "print(accuracy_score(pred_y, Y_test))\n",
    "print(confusion_matrix(pred_y,Y_test))\n",
    "print(metrics.classification_report(pred_y,Y_test))"
   ]
  },
  {
   "cell_type": "code",
   "execution_count": 1513,
   "id": "a8bda7a8",
   "metadata": {},
   "outputs": [
    {
     "name": "stderr",
     "output_type": "stream",
     "text": [
      "100%|██████████████████████████████████████████████████████████████████████████████████| 49/49 [00:41<00:00,  1.19it/s]\n"
     ]
    }
   ],
   "source": [
    "best_RF = None\n",
    "best_accuracy_RF = 0\n",
    "best_est_RF = 0\n",
    "best_depth_RF = 0\n",
    "for est in tqdm(range(2,51)):\n",
    "    for depth in range(2,25):\n",
    "        clas = RandomForestClassifier(random_state = 47 ,n_estimators = est, max_depth = depth)\n",
    "        clas.fit(X_train, Y_train)\n",
    "        prediction_valid_RF = clas.predict(X_test)\n",
    "        accuracy_RF = accuracy_score(pred_y,Y_test)\n",
    "        if best_accuracy_RF < accuracy_RF:\n",
    "            best_RF = RF\n",
    "            best_depth_RF = depth\n",
    "            best_est_RF = est\n",
    "            best_accuracy_RF = accuracy_RF"
   ]
  },
  {
   "cell_type": "code",
   "execution_count": null,
   "id": "590ec90d",
   "metadata": {},
   "outputs": [],
   "source": []
  },
  {
   "cell_type": "code",
   "execution_count": 1514,
   "id": "f44abdc3",
   "metadata": {},
   "outputs": [
    {
     "name": "stderr",
     "output_type": "stream",
     "text": [
      "100%|█████████████████████████████████████████████████████████████████████████████████| 48/48 [00:00<00:00, 257.98it/s]\n"
     ]
    }
   ],
   "source": [
    "#Деревья решений\n",
    "from sklearn.tree import DecisionTreeClassifier\n",
    "best_DT = None\n",
    "best_accuracy_DT = 0\n",
    "best_depth_DT = 0\n",
    "for depth in tqdm(range(2,50)):\n",
    "    DT = DecisionTreeClassifier(random_state = 88, max_depth = depth)\n",
    "    DT.fit(X_train, Y_train)\n",
    "    prediction_valid_DT = DT.predict(X_test)\n",
    "    accuracy_DT = accuracy_score(pred_y,Y_test)\n",
    "    if best_accuracy_DT < accuracy_DT:\n",
    "        best_DT = DT\n",
    "        best_accuracy_DT = accuracy_DT\n",
    "        best_depth_DT = depth"
   ]
  },
  {
   "cell_type": "code",
   "execution_count": 1515,
   "id": "f847c7e7",
   "metadata": {},
   "outputs": [
    {
     "name": "stdout",
     "output_type": "stream",
     "text": [
      "0.9285714285714286\n",
      "[[24  1]\n",
      " [ 1  2]]\n",
      "              precision    recall  f1-score   support\n",
      "\n",
      "    Обучаюсь       0.96      0.96      0.96        25\n",
      "    Отчислен       0.67      0.67      0.67         3\n",
      "\n",
      "    accuracy                           0.93        28\n",
      "   macro avg       0.81      0.81      0.81        28\n",
      "weighted avg       0.93      0.93      0.93        28\n",
      "\n"
     ]
    }
   ],
   "source": [
    "pred_y = DT.predict(X_test)\n",
    "print(accuracy_score(pred_y, Y_test))\n",
    "print(confusion_matrix(pred_y,Y_test))\n",
    "print(metrics.classification_report(pred_y,Y_test))"
   ]
  },
  {
   "cell_type": "code",
   "execution_count": 1516,
   "id": "26a51291",
   "metadata": {},
   "outputs": [
    {
     "ename": "AttributeError",
     "evalue": "'GridSearchCV' object has no attribute 'best_estimator_'",
     "output_type": "error",
     "traceback": [
      "\u001b[1;31m---------------------------------------------------------------------------\u001b[0m",
      "\u001b[1;31mAttributeError\u001b[0m                            Traceback (most recent call last)",
      "Cell \u001b[1;32mIn[1516], line 5\u001b[0m\n\u001b[0;32m      3\u001b[0m dtc_model \u001b[38;5;241m=\u001b[39m GridSearchCV(DecisionTreeClassifier(), pred_y, cv\u001b[38;5;241m=\u001b[39m\u001b[38;5;241m10\u001b[39m)\n\u001b[0;32m      4\u001b[0m plt\u001b[38;5;241m.\u001b[39mfigure(figsize\u001b[38;5;241m=\u001b[39m(\u001b[38;5;241m15\u001b[39m,\u001b[38;5;241m15\u001b[39m))\n\u001b[1;32m----> 5\u001b[0m plot_tree(\u001b[43mdtc_model\u001b[49m\u001b[38;5;241;43m.\u001b[39;49m\u001b[43mbest_estimator_\u001b[49m, filled\u001b[38;5;241m=\u001b[39m\u001b[38;5;28;01mTrue\u001b[39;00m, impurity\u001b[38;5;241m=\u001b[39m\u001b[38;5;28;01mTrue\u001b[39;00m)\n",
      "\u001b[1;31mAttributeError\u001b[0m: 'GridSearchCV' object has no attribute 'best_estimator_'"
     ]
    },
    {
     "data": {
      "text/plain": [
       "<Figure size 1500x1500 with 0 Axes>"
      ]
     },
     "metadata": {},
     "output_type": "display_data"
    }
   ],
   "source": [
    "import matplotlib.pyplot as plt\n",
    "from sklearn.tree import plot_tree\n",
    "dtc_model = GridSearchCV(DecisionTreeClassifier(), pred_y, cv=10)\n",
    "plt.figure(figsize=(15,15))\n",
    "plot_tree(dtc_model.best_estimator_, filled=True, impurity=True) "
   ]
  },
  {
   "cell_type": "code",
   "execution_count": null,
   "id": "a4e45b62",
   "metadata": {},
   "outputs": [],
   "source": []
  },
  {
   "cell_type": "code",
   "execution_count": null,
   "id": "5c2e778a",
   "metadata": {},
   "outputs": [],
   "source": []
  }
 ],
 "metadata": {
  "kernelspec": {
   "display_name": "Python 3 (ipykernel)",
   "language": "python",
   "name": "python3"
  },
  "language_info": {
   "codemirror_mode": {
    "name": "ipython",
    "version": 3
   },
   "file_extension": ".py",
   "mimetype": "text/x-python",
   "name": "python",
   "nbconvert_exporter": "python",
   "pygments_lexer": "ipython3",
   "version": "3.10.9"
  }
 },
 "nbformat": 4,
 "nbformat_minor": 5
}
